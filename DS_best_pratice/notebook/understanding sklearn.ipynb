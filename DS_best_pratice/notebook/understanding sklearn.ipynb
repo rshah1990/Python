{
 "cells": [
  {
   "cell_type": "code",
   "execution_count": 1,
   "metadata": {},
   "outputs": [],
   "source": [
    "import numpy as np \n",
    "import pandas as pd\n",
    "from sklearn.base import BaseEstimator, TransformerMixin\n",
    "from sklearn.preprocessing import OneHotEncoder, StandardScaler\n",
    "from sklearn.impute import SimpleImputer\n",
    "from sklearn.pipeline import FeatureUnion, Pipeline\n",
    "import sys\n",
    "sys.path.append('../')\n",
    "from src.preprocessing import categorical_transform,numerical_transform,FeatureSelector\n",
    "from sklearn.linear_model import LinearRegression"
   ]
  },
  {
   "cell_type": "markdown",
   "metadata": {},
   "source": [
    "https://towardsdatascience.com/custom-transformers-and-ml-data-pipelines-with-python-20ea2a7adb65"
   ]
  },
  {
   "cell_type": "code",
   "execution_count": 2,
   "metadata": {},
   "outputs": [],
   "source": [
    "cateforical_features = ['date', 'waterfront', 'view', 'yr_renovated']\n",
    "numerical_features = ['bedrooms', 'bathrooms', 'sqft_living', 'sqft_lot', 'floors',\n",
    "                'condition', 'grade', 'sqft_basement', 'yr_built']"
   ]
  },
  {
   "cell_type": "code",
   "execution_count": 3,
   "metadata": {},
   "outputs": [],
   "source": [
    "cat_pipeline = Pipeline(steps=[ ('cat_selector',FeatureSelector(cateforical_features)),\n",
    "                                 ('cat_transform',categorical_transform()),\n",
    "                                 ('one_hot_encoding',OneHotEncoder())\n",
    "                              ])"
   ]
  },
  {
   "cell_type": "code",
   "execution_count": 4,
   "metadata": {},
   "outputs": [],
   "source": [
    "numerical_pipeline = Pipeline(steps= [ ('num_selector', FeatureSelector(numerical_features)),\n",
    "                                      ('num_transformer', numerical_transform()),\n",
    "                                      ('imputer', SimpleImputer(strategy = 'median')),\n",
    "                                      ('std_scaler', StandardScaler()) \n",
    "                                     ])"
   ]
  },
  {
   "cell_type": "code",
   "execution_count": 5,
   "metadata": {},
   "outputs": [],
   "source": [
    "full_pipeline = FeatureUnion(transformer_list=[\n",
    "    ('cat_pipe',cat_pipeline),\n",
    "    ('num_pipe',numerical_pipeline)\n",
    "])"
   ]
  },
  {
   "cell_type": "code",
   "execution_count": 6,
   "metadata": {},
   "outputs": [],
   "source": [
    "pipeline_model = Pipeline(steps=[\n",
    "    ('full_transformation',full_pipeline),\n",
    "    ('model',LinearRegression())\n",
    "])"
   ]
  },
  {
   "cell_type": "code",
   "execution_count": 7,
   "metadata": {},
   "outputs": [],
   "source": [
    "from sklearn.model_selection import train_test_split\n",
    "import warnings\n",
    "warnings.filterwarnings('ignore')\n",
    "\n",
    "data =pd.read_csv(r\"../data/kc_house_data.csv\")\n",
    "\n",
    "X = data.drop('price', axis = 1)\n",
    "#You can covert the target variable to numpy \n",
    "y = data['price'].values \n",
    "\n",
    "X_train, X_test, y_train, y_test = train_test_split( X, y , test_size = 0.2 , random_state = 42 )"
   ]
  },
  {
   "cell_type": "code",
   "execution_count": 8,
   "metadata": {},
   "outputs": [],
   "source": [
    "# pipeline_model.fit(X_train,y_train)"
   ]
  },
  {
   "cell_type": "code",
   "execution_count": 9,
   "metadata": {},
   "outputs": [],
   "source": [
    "# pipeline_model.predict(X_test)"
   ]
  },
  {
   "cell_type": "code",
   "execution_count": 17,
   "metadata": {},
   "outputs": [],
   "source": [
    "from sklearn.model_selection import GridSearchCV\n",
    "grid_params = {\n",
    "  'model__fit_intercept': [True],\n",
    "  'full_transformation__cat_pipe__cat_selector__feature_names':[cateforical_features],\n",
    "  'full_transformation__num_pipe__num_selector__feature_names':[numerical_features]\n",
    "}\n",
    "clf = GridSearchCV(pipeline_model, grid_params)"
   ]
  },
  {
   "cell_type": "code",
   "execution_count": 18,
   "metadata": {
    "scrolled": true
   },
   "outputs": [
    {
     "name": "stdout",
     "output_type": "stream",
     "text": [
      "Index(['date', 'waterfront', 'view', 'yr_renovated'], dtype='object')\n",
      "['year', 'month', 'day']\n",
      "Inside\n",
      "Index(['date', 'waterfront', 'view', 'yr_renovated'], dtype='object')\n",
      "['year', 'month', 'day']\n",
      "Inside\n",
      "Index(['date', 'waterfront', 'view', 'yr_renovated'], dtype='object')\n",
      "['year', 'month', 'day']\n",
      "Inside\n",
      "Index(['date', 'waterfront', 'view', 'yr_renovated'], dtype='object')\n",
      "['year', 'month', 'day']\n",
      "Inside\n",
      "Index(['date', 'waterfront', 'view', 'yr_renovated'], dtype='object')\n",
      "['year', 'month', 'day']\n",
      "Inside\n",
      "Index(['date', 'waterfront', 'view', 'yr_renovated'], dtype='object')\n",
      "['year', 'month', 'day']\n",
      "Inside\n",
      "Index(['date', 'waterfront', 'view', 'yr_renovated'], dtype='object')\n",
      "['year', 'month', 'day']\n",
      "Inside\n",
      "Index(['date', 'waterfront', 'view', 'yr_renovated'], dtype='object')\n",
      "['year', 'month', 'day']\n",
      "Inside\n",
      "Index(['date', 'waterfront', 'view', 'yr_renovated'], dtype='object')\n",
      "['year', 'month', 'day']\n",
      "Inside\n",
      "Index(['date', 'waterfront', 'view', 'yr_renovated'], dtype='object')\n",
      "['year', 'month', 'day']\n",
      "Inside\n",
      "Index(['date', 'waterfront', 'view', 'yr_renovated'], dtype='object')\n",
      "['year', 'month', 'day']\n",
      "Inside\n"
     ]
    },
    {
     "data": {
      "text/plain": [
       "GridSearchCV(cv=None, error_score=nan,\n",
       "             estimator=Pipeline(memory=None,\n",
       "                                steps=[('full_transformation',\n",
       "                                        FeatureUnion(n_jobs=None,\n",
       "                                                     transformer_list=[('cat_pipe',\n",
       "                                                                        Pipeline(memory=None,\n",
       "                                                                                 steps=[('cat_selector',\n",
       "                                                                                         FeatureSelector(feature_names=['date',\n",
       "                                                                                                                        'waterfront',\n",
       "                                                                                                                        'view',\n",
       "                                                                                                                        'yr_renovated'])),\n",
       "                                                                                        ('cat_transform',\n",
       "                                                                                         categorical_transform(use_date=['year',\n",
       "                                                                                                                         'month',\n",
       "                                                                                                                         'day'])),\n",
       "                                                                                        ('on...\n",
       "             param_grid={'full_transformation__cat_pipe__cat_selector__feature_names': [['date',\n",
       "                                                                                         'waterfront',\n",
       "                                                                                         'view',\n",
       "                                                                                         'yr_renovated']],\n",
       "                         'full_transformation__num_pipe__num_selector__feature_names': [['bedrooms',\n",
       "                                                                                         'bathrooms',\n",
       "                                                                                         'sqft_living',\n",
       "                                                                                         'sqft_lot',\n",
       "                                                                                         'floors',\n",
       "                                                                                         'condition',\n",
       "                                                                                         'grade',\n",
       "                                                                                         'sqft_basement',\n",
       "                                                                                         'yr_built']],\n",
       "                         'model__fit_intercept': [True]},\n",
       "             pre_dispatch='2*n_jobs', refit=True, return_train_score=False,\n",
       "             scoring=None, verbose=0)"
      ]
     },
     "execution_count": 18,
     "metadata": {},
     "output_type": "execute_result"
    }
   ],
   "source": [
    "clf.fit(X_train,y_train)"
   ]
  },
  {
   "cell_type": "code",
   "execution_count": null,
   "metadata": {},
   "outputs": [],
   "source": []
  }
 ],
 "metadata": {
  "kernelspec": {
   "display_name": "Python 3",
   "language": "python",
   "name": "python3"
  },
  "language_info": {
   "codemirror_mode": {
    "name": "ipython",
    "version": 3
   },
   "file_extension": ".py",
   "mimetype": "text/x-python",
   "name": "python",
   "nbconvert_exporter": "python",
   "pygments_lexer": "ipython3",
   "version": "3.7.3"
  },
  "toc": {
   "base_numbering": 1,
   "nav_menu": {},
   "number_sections": true,
   "sideBar": true,
   "skip_h1_title": false,
   "title_cell": "Table of Contents",
   "title_sidebar": "Contents",
   "toc_cell": false,
   "toc_position": {},
   "toc_section_display": true,
   "toc_window_display": false
  }
 },
 "nbformat": 4,
 "nbformat_minor": 2
}
